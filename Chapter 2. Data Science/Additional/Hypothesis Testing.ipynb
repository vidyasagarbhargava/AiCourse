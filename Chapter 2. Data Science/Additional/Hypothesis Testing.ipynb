{
 "cells": [
  {
   "cell_type": "markdown",
   "metadata": {},
   "source": [
    "**Hypothesis Testing**\n",
    "\n",
    "Any kind of research design uses hypothesis testing to understand if the results of an experiment are significant or not. Without a good experimental design it is very easy to draw the wrong conclusions from our research.\n",
    "\n",
    "The key elements of a good experimental design are :\n",
    "\n",
    "1. Null Hypothesis - In hypothesis testing, we perform statistical tests to determine whether a statement is true or false. This initial statement we are testing is called the Null Hypothesis. A common example is that there is no difference between characteristics of a population. Example: \"There is no relationship between this flu medication and a reduced recovery time from the flu\". The Null Hypothesis is usually denoted as  𝐻0\n",
    "\n",
    "\n",
    "2. Alternate Hypothesis - The hypothesis traditionally thought of when creating a hypothesis for an experiment\n",
    "Example: \"This flu medication reduces recovery time for the flu.\"\n",
    "\n",
    "The Alternative Hypothesis is usually denoted as  𝐻1 \n",
    "\n",
    "An easy way to differentiate between the Null Hypothesis and the Alternative Hypothesis is that the Null Hypothesis is the more conservative choice. It always assumes that there is no difference between two different population means, and when it is represented mathematically, it should always contain an equals sign.\n",
    "\n",
    "The Alternative Hypothesis is whatever claim you are trying to prove with an experiment\n",
    "\n",
    "\n",
    "3. p- values - The probability of observing a test statistic at least as large as the one observed, by random chance, assuming that the null hypothesis is true.\n",
    "\n",
    "If you calculate a p-value and it comes out to 0.03, you can interpret this as saying \"There is a 3% chance of obtaining the results I'm seeing when the null hypothesis is true.\"\n",
    "\n",
    "\n",
    "4. Alpha values - the marginal threshold at which you're okay with rejecting the null hypothesis.\n",
    "\n",
    "An alpha value can be any value set between 0 and 1. However, the most common alpha value in science is 0.05 (although this is somewhat of a controversial topic in the scientific community, currently).\n",
    "\n",
    "If you set an alpha value of  𝛼=0.05 , you're essentially saying \"I'm okay with accepting my alternative hypothesis as true if there is less than a 5% chance that the results that I'm seeing are actually due to randomness.\"\n",
    "\n",
    "When we conduct an experiment, the goal is to calculate a p-value and compare it to an alpha. In simple terms, if \n",
    "\n",
    "𝑝<𝛼 : Reject the Null Hypothesis and accept the Alternative Hypothesis\n",
    "\n",
    "𝑝>=𝛼: Fail to reject the Null Hypothesis\n",
    "\n",
    "\n",
    "5. Effect Size - used to calculate and interpret the difference between control and test groups\n",
    "\n",
    "\n",
    "6. One and Two Sample T-tests - used to compare two averages to see how significant the differences are between one or two samples once we have defined the experimental design.\n",
    "\n",
    "\n",
    "7. Type 1(false positive) and Type 2(false negative) Errors - There are times when we reject the null hypothesis when it should not have been rejected. When this happens, we refer to it as a Type 1 error or a False Positive. The opposite may happen as well, i.e. we may fail to reject the null hypothesis when it should have been rejected. This is referred to as a Type 2 error or a False Negative.\n",
    "\n",
    "\n",
    "8. Alpha and Beta - In most cases, the null hypothesis is assumed to be true unless there is overwhelming evidence to the contrary. To quantify this, we must determine the level of confidence for which we will reject the null hypothesis. This level of confidence is referred to as alpha. If we say alpha = 0.05, it indicates  there is a 5% chance we will reject the null hypothesis when it is actually true. \n",
    "\n",
    "Beta is the probability that we fail to reject the null hypothesis when it is actually false. Beta is related to Power, which is the probability of rejecting the null hypothesis given that it is actually false and hence mathematically, power = 1 - beta. When designing an experiment, we choose a power level and from that obtain the Type 2 error rate. \n",
    "\n",
    "Let's use an example of an unfair coin to test these :"
   ]
  },
  {
   "cell_type": "code",
   "execution_count": 3,
   "metadata": {},
   "outputs": [
    {
     "data": {
      "text/plain": [
       "15"
      ]
     },
     "execution_count": 3,
     "metadata": {},
     "output_type": "execute_result"
    }
   ],
   "source": [
    "#Testing an unfair coin\n",
    "\n",
    "import numpy as np\n",
    "import scipy\n",
    "\n",
    "#here we simulate an unfair coin with 75% chance of heads and 25% chance of\n",
    "#tails. We then flip this coin 20 times and perform a test to determine\n",
    "#whether we believe it to be fair or unfair\n",
    "\n",
    "n = 20 #number of flips\n",
    "p = 0.75 #simulating an unfair coin\n",
    "coin1 = np.random.binomial(n,p)\n",
    "coin1"
   ]
  },
  {
   "cell_type": "markdown",
   "metadata": {},
   "source": [
    "the theoretical meand and standard deviation of a fair coin can be modeled using a binomial distribution with p = 0.5.\n",
    "\n",
    "and we know the standard deviation of a binomial distribution is given by:\n",
    "\n",
    "$\\sigma = \\sqrt{n \\bullet p \\bullet (1-p)}$\n",
    "\n",
    "So for a sample of 20 elements, the standard deviation from the expected number of heads (10) for a fair coin should be:"
   ]
  },
  {
   "cell_type": "code",
   "execution_count": 4,
   "metadata": {},
   "outputs": [
    {
     "data": {
      "text/plain": [
       "2.23606797749979"
      ]
     },
     "execution_count": 4,
     "metadata": {},
     "output_type": "execute_result"
    }
   ],
   "source": [
    "sigma = np.sqrt(n*0.5*(1-0.5))\n",
    "sigma"
   ]
  },
  {
   "cell_type": "markdown",
   "metadata": {},
   "source": [
    "and with this we can calculate a p-value using a traditional z-test\n",
    "\n",
    "$ z = \\frac{\\bar{x}-\\mu}{\\sigma/\\sqrt{n}}$\n",
    "\n",
    "Here, $\\bar{x}$ is the number of heads, $\\mu$ (mu) is the expected number of heads (10), $\\sigma$ (sigma) is the standard deviation (calculated above) and n is the number of observations (20)"
   ]
  },
  {
   "cell_type": "code",
   "execution_count": 5,
   "metadata": {},
   "outputs": [
    {
     "data": {
      "text/plain": [
       "10.0"
      ]
     },
     "execution_count": 5,
     "metadata": {},
     "output_type": "execute_result"
    }
   ],
   "source": [
    "z = (coin1 - 10) / (sigma / np.sqrt(n))\n",
    "z"
   ]
  },
  {
   "cell_type": "code",
   "execution_count": 6,
   "metadata": {},
   "outputs": [
    {
     "data": {
      "text/plain": [
       "7.61985302416047e-24"
      ]
     },
     "execution_count": 6,
     "metadata": {},
     "output_type": "execute_result"
    }
   ],
   "source": [
    "#taking our z-score and applying standard lookup tables for normal distribution\n",
    "#to determine the probability \n",
    "\n",
    "import scipy.stats as st\n",
    "\n",
    "st.norm.sf(np.abs(z))"
   ]
  },
  {
   "cell_type": "markdown",
   "metadata": {},
   "source": [
    "Since this is a tiny p-value, we can reject the null hypothesis that this coin is fair and conclude that the coin is unfair"
   ]
  },
  {
   "cell_type": "markdown",
   "metadata": {},
   "source": [
    "Effect Size"
   ]
  },
  {
   "cell_type": "markdown",
   "metadata": {},
   "source": [
    "Effect size is used to quantify the size of the difference between two groups under observation. Through this we can measure the effectiveness of a certain intervention, relative to some comparison. It is used mostly in meta-analysis, to combine and compare estimates from different studies on different samples.\n",
    "\n",
    "P value = probability sample means are the same\n",
    "\n",
    "1-P or Confidence Level = probability sample means are different\n",
    "\n",
    "Effect Size = how different sample means are\n",
    "\n",
    "Calculating effect size in Python"
   ]
  },
  {
   "cell_type": "code",
   "execution_count": 3,
   "metadata": {},
   "outputs": [],
   "source": [
    "from __future__ import print_function, division\n",
    "import numpy as np\n",
    "\n",
    "import scipy.stats\n",
    "import matplotlib.pyplot as plt\n",
    "%matplotlib inline\n",
    "\n",
    "#seeding the random number generator so as to get the same results\n",
    "np.random.seed(10)"
   ]
  },
  {
   "cell_type": "markdown",
   "metadata": {},
   "source": [
    "Let's take an example where to quantify effect size, we see the difference in height between men and women, based on mean and SD"
   ]
  },
  {
   "cell_type": "markdown",
   "metadata": {},
   "source": [
    "Male height (mean = 178, SD = 7.7)\n",
    "\n",
    "Female height (mean = 163, SD = 7.3)"
   ]
  },
  {
   "cell_type": "code",
   "execution_count": 7,
   "metadata": {},
   "outputs": [],
   "source": [
    "#generating a random sample of size 1000 from the population distributions\n",
    "\n",
    "male_sample = male_height.rvs(1000)"
   ]
  },
  {
   "cell_type": "code",
   "execution_count": 8,
   "metadata": {},
   "outputs": [
    {
     "data": {
      "text/plain": [
       "(177.88791390576085, 7.222274730410271)"
      ]
     },
     "execution_count": 8,
     "metadata": {},
     "output_type": "execute_result"
    }
   ],
   "source": [
    "mean1, std1 = male_sample.mean(), male_sample.std()\n",
    "mean1, std1"
   ]
  },
  {
   "cell_type": "markdown",
   "metadata": {},
   "source": [
    "In the above, the sample mean is close to the population mean but not exactly the same"
   ]
  },
  {
   "cell_type": "code",
   "execution_count": 10,
   "metadata": {},
   "outputs": [
    {
     "data": {
      "text/plain": [
       "(162.91903182040372, 7.261850929417819)"
      ]
     },
     "execution_count": 10,
     "metadata": {},
     "output_type": "execute_result"
    }
   ],
   "source": [
    "female_sample = female_height.rvs(1000)\n",
    "mean2, std2 = female_sample.mean(), female_sample.std()\n",
    "mean2, std2"
   ]
  },
  {
   "cell_type": "markdown",
   "metadata": {},
   "source": [
    "And similar results for the female sample"
   ]
  },
  {
   "cell_type": "code",
   "execution_count": 12,
   "metadata": {},
   "outputs": [
    {
     "data": {
      "text/plain": [
       "14.968882085357137"
      ]
     },
     "execution_count": 12,
     "metadata": {},
     "output_type": "execute_result"
    }
   ],
   "source": [
    "#We can calculate the difference in means to find the magnitude of difference\n",
    "#between these two distributions\n",
    "\n",
    "difference_in_means = male_sample.mean() - female_sample.mean()\n",
    "difference_in_means"
   ]
  },
  {
   "cell_type": "markdown",
   "metadata": {},
   "source": [
    "This shows that on an average, men are about 15 cms taller. However without more details about the distributions such as the spread, it is hard to interpret whether 15 cms is a big difference or not"
   ]
  },
  {
   "cell_type": "code",
   "execution_count": 14,
   "metadata": {},
   "outputs": [
    {
     "data": {
      "text/plain": [
       "8.414783082614122"
      ]
     },
     "execution_count": 14,
     "metadata": {},
     "output_type": "execute_result"
    }
   ],
   "source": [
    "#We can calculate relative difference but in that case we have to choose which\n",
    "#mean to express them relative to\n",
    "\n",
    "relative_difference = difference_in_means / male_sample.mean()\n",
    "relative_difference*100"
   ]
  },
  {
   "cell_type": "code",
   "execution_count": 15,
   "metadata": {},
   "outputs": [
    {
     "data": {
      "text/plain": [
       "9.18792722869745"
      ]
     },
     "execution_count": 15,
     "metadata": {},
     "output_type": "execute_result"
    }
   ],
   "source": [
    "relative_difference = difference_in_means / female_sample.mean()\n",
    "relative_difference*100"
   ]
  },
  {
   "cell_type": "code",
   "execution_count": 17,
   "metadata": {},
   "outputs": [
    {
     "data": {
      "text/plain": [
       "170.42392323303363"
      ]
     },
     "execution_count": 17,
     "metadata": {},
     "output_type": "execute_result"
    }
   ],
   "source": [
    "#There is still a difference in results when we express relative difference\n",
    "#so we can try looking at the amount of overlap between the two distributions.\n",
    "#To do this we can calculate the threshold as the place where the two PDFs cross/\n",
    "\n",
    "thresh = (std1 * mean2 + std2 * mean1) / (std1 + std2)\n",
    "thresh"
   ]
  },
  {
   "cell_type": "code",
   "execution_count": 18,
   "metadata": {},
   "outputs": [
    {
     "data": {
      "text/plain": [
       "154"
      ]
     },
     "execution_count": 18,
     "metadata": {},
     "output_type": "execute_result"
    }
   ],
   "source": [
    "#calculating how many men are below and women are above the thresholds\n",
    "\n",
    "male_below_thresh = sum(male_sample < thresh)\n",
    "male_below_thresh"
   ]
  },
  {
   "cell_type": "code",
   "execution_count": 25,
   "metadata": {},
   "outputs": [
    {
     "data": {
      "text/plain": [
       "152"
      ]
     },
     "execution_count": 25,
     "metadata": {},
     "output_type": "execute_result"
    }
   ],
   "source": [
    "female_above_thresh = sum(female_sample > thresh)\n",
    "female_above_thresh"
   ]
  },
  {
   "cell_type": "code",
   "execution_count": 22,
   "metadata": {},
   "outputs": [],
   "source": [
    "def evaluate_PDF(rv, x=4):\n",
    "    '''Input: a random variable object, standard deviation\n",
    "    output : x and y values for the normal distribution\n",
    "    '''\n",
    "    \n",
    "    # Identify the mean and standard deviation of random variable \n",
    "    mean = rv.mean()\n",
    "    std = rv.std()\n",
    "\n",
    "    # Use numpy to calculate evenly spaced numbers over the specified interval (4 sd) and generate 100 samples.\n",
    "    xs = np.linspace(mean - x*std, mean + x*std, 100)\n",
    "    \n",
    "    # Calculate the peak of normal distribution i.e. probability density. \n",
    "    ys = rv.pdf(xs)\n",
    "\n",
    "    return xs, ys # Return calculated values"
   ]
  },
  {
   "cell_type": "code",
   "execution_count": 23,
   "metadata": {},
   "outputs": [
    {
     "data": {
      "text/plain": [
       "Text(0.5, 0, 'height (cm)')"
      ]
     },
     "execution_count": 23,
     "metadata": {},
     "output_type": "execute_result"
    },
    {
     "data": {
      "image/png": "[encoded data removed]",
      "text/plain": [
       "<Figure size 432x288 with 1 Axes>"
      ]
     },
     "metadata": {
      "needs_background": "light"
     },
     "output_type": "display_data"
    }
   ],
   "source": [
    "#analysing what these thresholds would look like when laid over the PDF \n",
    "#of both samples' distributions\n",
    "\n",
    "#Male height\n",
    "m_xs, male_ys = evaluate_PDF(male_height)\n",
    "plt.plot(m_xs, male_ys, label='male', linewidth=4, color='#beaed4') \n",
    "\n",
    "#Female height \n",
    "f_xs, female_ys = evaluate_PDF(female_height)\n",
    "plt.plot(f_xs, female_ys, label='female', linewidth=4, color='#fdc086')\n",
    "plt.vlines(thresh,ymin=0,ymax=0.06)\n",
    "plt.fill_betweenx(male_ys,x1 = m_xs,x2=thresh, where = m_xs < thresh,color='b')\n",
    "plt.fill_betweenx(female_ys,x1=f_xs,x2=thresh, where = f_xs > thresh,color='b')\n",
    "plt.xlabel('height (cm)')"
   ]
  },
  {
   "cell_type": "markdown",
   "metadata": {},
   "source": [
    "The overlap or shaded region above is the total AUC or Area Under the Curve. This is used to identify the samples that end up on the wrong side of the threshold"
   ]
  },
  {
   "cell_type": "code",
   "execution_count": 26,
   "metadata": {},
   "outputs": [
    {
     "data": {
      "text/plain": [
       "0.306"
      ]
     },
     "execution_count": 26,
     "metadata": {},
     "output_type": "execute_result"
    }
   ],
   "source": [
    "#we can calculate the amount of overlap as \n",
    "\n",
    "overlap = male_below_thresh / len(male_sample) + female_above_thresh / len(female_sample)\n",
    "overlap"
   ]
  },
  {
   "cell_type": "markdown",
   "metadata": {},
   "source": [
    "Cohen's d\n",
    "\n",
    "One of the most common ways to measure effect size. It represents the magnitude of differences betweeb two (or more) groups on a given variable, with larger values representing a greater differentiation between the two groups on that variable\n",
    "\n",
    "The basic formula for calculating Cohen's d is :\n",
    "\n",
    "> **$d$ = effect size (difference of means) / pooled standard deviation**\n",
    "\n",
    "where the denominator is the standardiser"
   ]
  },
  {
   "cell_type": "code",
   "execution_count": 27,
   "metadata": {},
   "outputs": [],
   "source": [
    "def Cohen_d(group1, group2):\n",
    "\n",
    "    # Compute Cohen's d.\n",
    "\n",
    "    # group1: Series or NumPy array\n",
    "    # group2: Series or NumPy array\n",
    "\n",
    "    # returns a floating point number \n",
    "\n",
    "    diff = group1.mean() - group2.mean()\n",
    "\n",
    "    n1, n2 = len(group1), len(group2)\n",
    "    var1 = group1.var()\n",
    "    var2 = group2.var()\n",
    "\n",
    "    # Calculate the pooled threshold as shown earlier\n",
    "    pooled_var = (n1 * var1 + n2 * var2) / (n1 + n2)\n",
    "    \n",
    "    # Calculate Cohen's d statistic\n",
    "    d = diff / np.sqrt(pooled_var)\n",
    "    \n",
    "    return d"
   ]
  },
  {
   "cell_type": "code",
   "execution_count": 28,
   "metadata": {},
   "outputs": [
    {
     "data": {
      "text/plain": [
       "2.0669285200851877"
      ]
     },
     "execution_count": 28,
     "metadata": {},
     "output_type": "execute_result"
    }
   ],
   "source": [
    "Cohen_d(male_sample, female_sample)"
   ]
  },
  {
   "cell_type": "markdown",
   "metadata": {},
   "source": [
    "Rule of thumb guidelines for interpreting d\n",
    "\n",
    ">**Small effect = 0.2**\n",
    "\n",
    ">**Medium Effect = 0.5**\n",
    "\n",
    ">**Large Effect = 0.8**"
   ]
  },
  {
   "cell_type": "code",
   "execution_count": 31,
   "metadata": {},
   "outputs": [],
   "source": [
    "def overlap_superiority(group1, group2, n=1000):\n",
    "    \"\"\"Estimates overlap and superiority based on a sample.\n",
    "    \n",
    "    group1: scipy.stats rv object\n",
    "    group2: scipy.stats rv object\n",
    "    n: sample size\n",
    "    \"\"\"\n",
    "\n",
    "    # Get a sample of size n from both groups\n",
    "    group1_sample = group1.rvs(n)\n",
    "    group2_sample = group2.rvs(n)\n",
    "    \n",
    "    # Identify the threshold between samples\n",
    "    thresh = (group1.mean() + group2.mean()) / 2\n",
    "    print(thresh)\n",
    "    \n",
    "    # Calculate no. of values above and below for group 1 and group 2 respectively\n",
    "    above = sum(group1_sample < thresh)\n",
    "    below = sum(group2_sample > thresh)\n",
    "    \n",
    "    # Calculate the overlap\n",
    "    overlap = (above + below) / n\n",
    "    \n",
    "    # Calculate probability of superiority\n",
    "    superiority = sum(x > y for x, y in zip(group1_sample, group2_sample)) / n\n",
    "\n",
    "    return overlap, superiority"
   ]
  },
  {
   "cell_type": "code",
   "execution_count": 32,
   "metadata": {},
   "outputs": [],
   "source": [
    "def plot_pdfs(cohen_d=2):\n",
    "    \"\"\"Plot PDFs for distributions that differ by some number of stds.\n",
    "    \n",
    "    cohen_d: number of standard deviations between the means\n",
    "    \"\"\"\n",
    "    group1 = scipy.stats.norm(0, 1)\n",
    "    group2 = scipy.stats.norm(cohen_d, 1)\n",
    "    xs, ys = evaluate_PDF(group1)\n",
    "    plt.fill_between(xs, ys, label='Group1', color='#ff2289', alpha=0.7)\n",
    "\n",
    "    xs, ys = evaluate_PDF(group2)\n",
    "    plt.fill_between(xs, ys, label='Group2', color='#376cb0', alpha=0.7)\n",
    "    \n",
    "    o, s = overlap_superiority(group1, group2)\n",
    "    print('overlap', o)"
   ]
  },
  {
   "cell_type": "code",
   "execution_count": 33,
   "metadata": {},
   "outputs": [
    {
     "name": "stdout",
     "output_type": "stream",
     "text": [
      "170.5\n"
     ]
    },
    {
     "data": {
      "text/plain": [
       "(0.336, 0.94)"
      ]
     },
     "execution_count": 33,
     "metadata": {},
     "output_type": "execute_result"
    }
   ],
   "source": [
    "overlap_superiority(male_height, female_height, n=1000)"
   ]
  },
  {
   "cell_type": "code",
   "execution_count": 34,
   "metadata": {},
   "outputs": [
    {
     "name": "stdout",
     "output_type": "stream",
     "text": [
      "2.5\n",
      "overlap 1.992\n"
     ]
    },
    {
     "data": {
      "image/png": "[encoded data removed]",
      "text/plain": [
       "<Figure size 432x288 with 1 Axes>"
      ]
     },
     "metadata": {
      "needs_background": "light"
     },
     "output_type": "display_data"
    }
   ],
   "source": [
    "plot_pdfs(5)"
   ]
  },
  {
   "cell_type": "markdown",
   "metadata": {},
   "source": [
    "The probability of superiority in this case is the probability that a randomly chosen man is taller than a randomly chosen woman. Overlap here is the misclassification rate or the fraction of people who would get misclassified if we try to use height to guess sex"
   ]
  },
  {
   "cell_type": "markdown",
   "metadata": {},
   "source": [
    "Benefits of using Cohen's d\n",
    "\n",
    "1. we can compare d across different studies as the ratio of mean and SD is dimensionless\n",
    "2. we can calibrate whether an effect size is big, surprising or important using the d value\n",
    "3. given d, and assuming distributions are normal, we can compute overlap, superiority and related statistics"
   ]
  },
  {
   "cell_type": "markdown",
   "metadata": {},
   "source": [
    "T-tests \n",
    "\n",
    "In frequentist hypothesis testing, we contruct a test statistic from the measured data and use the value of that statistic to decide whether to accept or reject the null hypothesis. The t-test (or Student's t-test) can be used to compare two averages to assess if they are different from each other.\n",
    "\n",
    "We run a t-test when we either:\n",
    "\n",
    "1. Don't know the population SD\n",
    "2. Have a small sample size (n<30)\n",
    "\n",
    "One sample t-test\n",
    "\n",
    "A statistical procedure that is used to determine whether a sample of observations could have been generated by a process with a specific mean. It compares the mean of sample data to a known value.\n",
    "\n",
    "Two sample t-test\n",
    "\n",
    "Used to determine if two population means are equal. There are two types of two sample t-tests : paired and independent. Paired tests are used to determine how different a sample is affected by a certain treatment. Independent two sample t-tests are for when we are comparing two different, unrelated samples to one another. \n",
    "\n",
    "The above t-tests work under certain assumptions namely that sample sizes and sample variance between the two groups are equal. When these assumptions are not met, Welch's t-test is more reliable\n",
    "\n",
    "Here is how we calculate it: \n",
    "\n",
    "\n",
    " $ \\Large t = \\frac{\\bar{X_1}-\\bar{X_2}}{\\sqrt{\\frac{{s_1}^2}{N_1} + \\frac{{s_2}^2}{N_2}}} = \\frac{\\bar{X_1}-\\bar{X_2}}{\\sqrt{{se_1}^2+{se_2}^2}}$\n",
    "where  \n",
    "\n",
    "* $\\bar{X_i}$ - mean of sample i\n",
    "* ${s_i}^2$ - variance of sample i\n",
    "* $N_i$ - sample size of sample i  "
   ]
  },
  {
   "cell_type": "markdown",
   "metadata": {},
   "source": [
    "The modification is related to the degrees of freedom in the t-test, which tends to increase \n",
    "the test power for samples with unequal variance. When two groups have equal sample sizes and \n",
    "variances, Welch’s t-test tends to give the same result as the Student’s t-test. However, when \n",
    "sample sizes and variances are unequal, Student’s t-test is quite unreliable, whereas Welch’s tends perform better.\n",
    "\n",
    "Calculate the degrees of freedom\n",
    "\n",
    "Once the t-score has been calculated for the experiment using the above formula, you then must \n",
    "calculate the degrees of freedom for the t-distribution. Under the two-sample Student's t-test, \n",
    "this is simply the total number of observations in the samples size minus two, but given that \n",
    "the sample sizes may vary using the Welch's t-test, the calculation is a bit more complex:\n",
    "\n",
    "$ \\Large v \\approx \\frac{\\left( \\frac{{s_1}^2}{N_1} + \\frac{{s_2}^2}{N_2}\\right)^2}{\\frac{{s_1}^4}{{N_1}^2v_1} + \\frac{{s_2}^4}{{N_2}^2v_2}} $"
   ]
  },
  {
   "cell_type": "markdown",
   "metadata": {},
   "source": [
    "Calculating p-values \n",
    "\n",
    "As with a student's t-test we must convert the calculated score into a p-value in order to confirm or reject the null hypothesis.\n",
    "\n",
    "Eg. : you might be using a one-sided t-test to determine whether a new drug had a positive effect on patient outcomes. The p-value for the experiment is equivalent to the area under the t-distribution with the degrees of freedom, as calculated above, and the corresponding t-score.\n",
    "    \n",
    "The easiest method for determining p-values is to use the .cdf() method from scipy.stats to find the complement and subtract this from 1"
   ]
  },
  {
   "cell_type": "code",
   "execution_count": null,
   "metadata": {},
   "outputs": [],
   "source": [
    "#relevant code snippet\n",
    "\n",
    "import scipy.stats as stats\n",
    "\n",
    "p = 1 - stats.t.cdf(t, df)"
   ]
  }
 ],
 "metadata": {
  "kernelspec": {
   "display_name": "Python 3",
   "language": "python",
   "name": "python3"
  },
  "language_info": {
   "codemirror_mode": {
    "name": "ipython",
    "version": 3
   },
   "file_extension": ".py",
   "mimetype": "text/x-python",
   "name": "python",
   "nbconvert_exporter": "python",
   "pygments_lexer": "ipython3",
   "version": "3.7.4"
  },
  "toc": {
   "base_numbering": 1,
   "nav_menu": {},
   "number_sections": true,
   "sideBar": true,
   "skip_h1_title": false,
   "title_cell": "Table of Contents",
   "title_sidebar": "Contents",
   "toc_cell": false,
   "toc_position": {},
   "toc_section_display": true,
   "toc_window_display": false
  }
 },
 "nbformat": 4,
 "nbformat_minor": 2
}
