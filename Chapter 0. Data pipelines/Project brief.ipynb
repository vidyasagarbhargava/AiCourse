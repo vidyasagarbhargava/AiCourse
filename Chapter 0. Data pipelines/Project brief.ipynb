{
 "metadata": {
  "language_info": {
   "codemirror_mode": {
    "name": "ipython",
    "version": 3
   },
   "file_extension": ".py",
   "mimetype": "text/x-python",
   "name": "python",
   "nbconvert_exporter": "python",
   "pygments_lexer": "ipython3",
   "version": 3
  },
  "orig_nbformat": 2
 },
 "nbformat": 4,
 "nbformat_minor": 2,
 "cells": [
  {
   "source": [
    "# Data Pipelines project: Your first data pipeline\n",
    "\n",
    "## What?\n",
    "The main idea is that you'll use web scraping to collect data from the internet.\n",
    "You'll put this data together to create a dataset which you can use for future projects.\n",
    "\n",
    "In your next class, you will be introduced to machine learning. You'll learn that the data is an enabling component which big machine learning systems depend on. You'll also learn that supervised learning is just finding a mathematical function which maps from input to output, and that the dataset defines these inputs and outputs. For this project, the dataset you collect should be supervised.\n",
    "\n",
    "You should also use cron to schedule your Python web scraping script so that it runs automatically at intervals.\n",
    "\n",
    "## Why?\n",
    "Creating a dataset relevant to work that you want to do in the future will give you something uniquely interesting to companies that you might apply to.\n",
    "\n",
    "What problems do you think you might you be able to tackle using AI? What interests you? What kind of data would jobs you want to apply to value your experience in working with?\n",
    "\n",
    "## Deliverables\n",
    "- A Github repo containing all of the code, with a \n",
    "- Obviously, the dataset (probably not pushed to GitHub because it will be huge)\n",
    "- A presentation explaining\n",
    "    - the different locations on the internet that your script collects data from\n",
    "    - the layout of a example webpages you scraped and how you targeted elements within them\n",
    "    - in what format you chose to store your data and why\n",
    "    - how you cleaned the data\n",
    "\n",
    "## Deadline\n",
    "The project deadline is for 2 weeks from when announced.\n",
    "\n",
    "## Special awards\n",
    "- Special prize for the individual who collects the largest dataset.\n",
    "- Can you figure out how to put the script on a remote server using AWS (or another cloud provider) so that it doesn't run on your local machine? Don't worry, all the cloud providers give free credits."
   ],
   "cell_type": "markdown",
   "metadata": {}
  }
 ]
}